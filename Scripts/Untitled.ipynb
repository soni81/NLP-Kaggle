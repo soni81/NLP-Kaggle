{
 "cells": [
  {
   "cell_type": "code",
   "execution_count": 1,
   "metadata": {
    "collapsed": true
   },
   "outputs": [],
   "source": [
    "import os\n",
    "import numpy as np\n",
    "import pandas as pd\n",
    "from tqdm import tqdm\n",
    "import itertools\n",
    "import multiprocessing\n",
    "pool = multiprocessing.Pool(4)"
   ]
  },
  {
   "cell_type": "code",
   "execution_count": 2,
   "metadata": {
    "collapsed": true
   },
   "outputs": [],
   "source": [
    "os.chdir('C:\\\\Users\\\\lenovo\\\\Desktop\\\\All\\\\Docs\\\\Project Paper\\\\Data')\n",
    "embeddings = pd.read_csv('Ratings_Warriner_et_al.csv')\n",
    "embeddings = embeddings[['Unnamed: 0','Word','V.Mean.Sum', 'A.Mean.Sum', 'D.Mean.Sum']]"
   ]
  },
  {
   "cell_type": "code",
   "execution_count": 3,
   "metadata": {
    "collapsed": true
   },
   "outputs": [],
   "source": [
    "def wordEmbeddings(word):\n",
    "    return np.array(embeddings.loc[embeddings['Word'] == word].drop(['Word', 'Unnamed: 0'], axis = 1))"
   ]
  },
  {
   "cell_type": "code",
   "execution_count": 4,
   "metadata": {
    "collapsed": true
   },
   "outputs": [],
   "source": [
    "def cosineSimilarity(word1, word2):\n",
    "    e1 = wordEmbeddings(word1)\n",
    "    e2 = wordEmbeddings(word2)\n",
    "    return np.dot(e1, e2.T)/(np.linalg.norm(e1) * np.linalg.norm(e2))"
   ]
  },
  {
   "cell_type": "code",
   "execution_count": 13,
   "metadata": {},
   "outputs": [
    {
     "data": {
      "text/plain": [
       "array([[[ 1.        ]],\n",
       "\n",
       "       [[ 0.98869261]],\n",
       "\n",
       "       [[ 0.89633768]],\n",
       "\n",
       "       ..., \n",
       "       [[ 0.96605801]],\n",
       "\n",
       "       [[ 0.943673  ]],\n",
       "\n",
       "       [[ 0.97741443]]])"
      ]
     },
     "execution_count": 13,
     "metadata": {},
     "output_type": "execute_result"
    }
   ],
   "source": [
    "def f(x):\n",
    "    return cosineSimilarity(x, 'aardvark')\n",
    "def cosineSimilarity2(vec):\n",
    "    return np.array(list(map(f, vec)))\n",
    "cosineSimilarity2(words)"
   ]
  },
  {
   "cell_type": "code",
   "execution_count": 7,
   "metadata": {},
   "outputs": [],
   "source": [
    "words = embeddings['Word']\n",
    "distances = pd.DataFrame(columns = words)\n",
    "distances['Word'] = words\n",
    "for i in distances.columns.values:\n",
    "    if i != 'Word':\n",
    "        distances.i = cosineSimilarity(i, distances.Word.values)"
   ]
  },
  {
   "cell_type": "code",
   "execution_count": 11,
   "metadata": {},
   "outputs": [
    {
     "data": {
      "text/plain": [
       "array(['aardvark', 'abalone', 'abandon', ..., 'zoo', 'zoom', 'zucchini'], dtype=object)"
      ]
     },
     "execution_count": 11,
     "metadata": {},
     "output_type": "execute_result"
    }
   ],
   "source": [
    "distances['Word'].values"
   ]
  },
  {
   "cell_type": "code",
   "execution_count": null,
   "metadata": {
    "collapsed": true
   },
   "outputs": [],
   "source": []
  }
 ],
 "metadata": {
  "kernelspec": {
   "display_name": "Python 3",
   "language": "python",
   "name": "python3"
  },
  "language_info": {
   "codemirror_mode": {
    "name": "ipython",
    "version": 3
   },
   "file_extension": ".py",
   "mimetype": "text/x-python",
   "name": "python",
   "nbconvert_exporter": "python",
   "pygments_lexer": "ipython3",
   "version": "3.6.3"
  }
 },
 "nbformat": 4,
 "nbformat_minor": 2
}
